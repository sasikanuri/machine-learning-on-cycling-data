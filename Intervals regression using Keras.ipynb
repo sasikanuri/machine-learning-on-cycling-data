{
 "cells": [
  {
   "cell_type": "markdown",
   "metadata": {},
   "source": [
    "# Machine learning on rides of 2017"
   ]
  },
  {
   "cell_type": "code",
   "execution_count": 1,
   "metadata": {
    "collapsed": true
   },
   "outputs": [],
   "source": [
    "_FTP_ = 225\n",
    "_PATH_ = '/home/caster/training_data'"
   ]
  },
  {
   "cell_type": "markdown",
   "metadata": {},
   "source": [
    "# Preparation and function definitions"
   ]
  },
  {
   "cell_type": "code",
   "execution_count": 2,
   "metadata": {
    "collapsed": true
   },
   "outputs": [],
   "source": [
    "%run -i training_functions.py"
   ]
  },
  {
   "cell_type": "markdown",
   "metadata": {},
   "source": [
    "# Read power data generating a dataframe called 't_data'"
   ]
  },
  {
   "cell_type": "code",
   "execution_count": 3,
   "metadata": {},
   "outputs": [
    {
     "name": "stderr",
     "output_type": "stream",
     "text": [
      "/usr/lib/python2.7/site-packages/ipykernel/__main__.py:58: RuntimeWarning: divide by zero encountered in double_scalars\n"
     ]
    },
    {
     "data": {
      "text/html": [
       "<div>\n",
       "<style>\n",
       "    .dataframe thead tr:only-child th {\n",
       "        text-align: right;\n",
       "    }\n",
       "\n",
       "    .dataframe thead th {\n",
       "        text-align: left;\n",
       "    }\n",
       "\n",
       "    .dataframe tbody tr th {\n",
       "        vertical-align: top;\n",
       "    }\n",
       "</style>\n",
       "<table border=\"1\" class=\"dataframe\">\n",
       "  <thead>\n",
       "    <tr style=\"text-align: right;\">\n",
       "      <th></th>\n",
       "      <th>filename</th>\n",
       "      <th>epoch_day</th>\n",
       "      <th>time</th>\n",
       "      <th>cad</th>\n",
       "      <th>hr</th>\n",
       "      <th>hr_min</th>\n",
       "      <th>hr_drift</th>\n",
       "      <th>km</th>\n",
       "      <th>kph</th>\n",
       "      <th>kilojoules</th>\n",
       "      <th>watts</th>\n",
       "      <th>np</th>\n",
       "      <th>alt</th>\n",
       "      <th>vi</th>\n",
       "      <th>tss</th>\n",
       "      <th>if</th>\n",
       "      <th>training_type</th>\n",
       "    </tr>\n",
       "  </thead>\n",
       "  <tbody>\n",
       "    <tr>\n",
       "      <th>0</th>\n",
       "      <td>2017_02_18_11_13_04.utf8.json</td>\n",
       "      <td>17215</td>\n",
       "      <td>118</td>\n",
       "      <td>62.952481</td>\n",
       "      <td>151.204584</td>\n",
       "      <td>104</td>\n",
       "      <td>-0.233592</td>\n",
       "      <td>51.11070</td>\n",
       "      <td>25.871660</td>\n",
       "      <td>1064.2005</td>\n",
       "      <td>149.173045</td>\n",
       "      <td>227.744560</td>\n",
       "      <td>443.6</td>\n",
       "      <td>1.526714</td>\n",
       "      <td>152.671389</td>\n",
       "      <td>1.012198</td>\n",
       "      <td>Endurance</td>\n",
       "    </tr>\n",
       "    <tr>\n",
       "      <th>0</th>\n",
       "      <td>2017_02_22_17_33_49.utf8.json</td>\n",
       "      <td>17219</td>\n",
       "      <td>67</td>\n",
       "      <td>NaN</td>\n",
       "      <td>131.801924</td>\n",
       "      <td>90</td>\n",
       "      <td>NaN</td>\n",
       "      <td>24.28590</td>\n",
       "      <td>21.456039</td>\n",
       "      <td>NaN</td>\n",
       "      <td>NaN</td>\n",
       "      <td>NaN</td>\n",
       "      <td>390.6</td>\n",
       "      <td>NaN</td>\n",
       "      <td>NaN</td>\n",
       "      <td>NaN</td>\n",
       "      <td>NA</td>\n",
       "    </tr>\n",
       "    <tr>\n",
       "      <th>0</th>\n",
       "      <td>2017_03_07_17_47_18.utf8.json</td>\n",
       "      <td>17232</td>\n",
       "      <td>10</td>\n",
       "      <td>62.576433</td>\n",
       "      <td>137.426752</td>\n",
       "      <td>114</td>\n",
       "      <td>0.339606</td>\n",
       "      <td>4.69625</td>\n",
       "      <td>26.520306</td>\n",
       "      <td>93.3940</td>\n",
       "      <td>148.716561</td>\n",
       "      <td>216.195434</td>\n",
       "      <td>67.2</td>\n",
       "      <td>1.453741</td>\n",
       "      <td>0.000000</td>\n",
       "      <td>0.960869</td>\n",
       "      <td>Endurance</td>\n",
       "    </tr>\n",
       "    <tr>\n",
       "      <th>0</th>\n",
       "      <td>2017_03_07_17_47_18.utf8.json</td>\n",
       "      <td>17232</td>\n",
       "      <td>23</td>\n",
       "      <td>86.882497</td>\n",
       "      <td>171.672943</td>\n",
       "      <td>147</td>\n",
       "      <td>0.129740</td>\n",
       "      <td>18.93060</td>\n",
       "      <td>35.632825</td>\n",
       "      <td>310.9230</td>\n",
       "      <td>216.822176</td>\n",
       "      <td>234.398718</td>\n",
       "      <td>86</td>\n",
       "      <td>1.081064</td>\n",
       "      <td>0.000000</td>\n",
       "      <td>1.041772</td>\n",
       "      <td>FTP</td>\n",
       "    </tr>\n",
       "    <tr>\n",
       "      <th>0</th>\n",
       "      <td>2017_03_07_17_47_18.utf8.json</td>\n",
       "      <td>17232</td>\n",
       "      <td>46</td>\n",
       "      <td>71.348523</td>\n",
       "      <td>155.900576</td>\n",
       "      <td>126</td>\n",
       "      <td>-0.014478</td>\n",
       "      <td>37.26620</td>\n",
       "      <td>23.778161</td>\n",
       "      <td>400.1225</td>\n",
       "      <td>144.136347</td>\n",
       "      <td>235.856360</td>\n",
       "      <td>188.2</td>\n",
       "      <td>1.636342</td>\n",
       "      <td>0.000000</td>\n",
       "      <td>1.048250</td>\n",
       "      <td>Endurance</td>\n",
       "    </tr>\n",
       "    <tr>\n",
       "      <th>0</th>\n",
       "      <td>2017_03_10_17_46_57.utf8.json</td>\n",
       "      <td>17235</td>\n",
       "      <td>4</td>\n",
       "      <td>61.197761</td>\n",
       "      <td>138.582090</td>\n",
       "      <td>118</td>\n",
       "      <td>0.002620</td>\n",
       "      <td>0.91421</td>\n",
       "      <td>12.047118</td>\n",
       "      <td>42.8330</td>\n",
       "      <td>159.824627</td>\n",
       "      <td>221.239447</td>\n",
       "      <td>39.6</td>\n",
       "      <td>1.384264</td>\n",
       "      <td>0.000000</td>\n",
       "      <td>0.983286</td>\n",
       "      <td>Endurance</td>\n",
       "    </tr>\n",
       "    <tr>\n",
       "      <th>0</th>\n",
       "      <td>2017_03_10_17_46_57.utf8.json</td>\n",
       "      <td>17235</td>\n",
       "      <td>26</td>\n",
       "      <td>61.663425</td>\n",
       "      <td>145.644605</td>\n",
       "      <td>115</td>\n",
       "      <td>0.082763</td>\n",
       "      <td>23.27900</td>\n",
       "      <td>30.088589</td>\n",
       "      <td>174.7355</td>\n",
       "      <td>109.620765</td>\n",
       "      <td>186.888240</td>\n",
       "      <td>72.6</td>\n",
       "      <td>1.704862</td>\n",
       "      <td>0.000000</td>\n",
       "      <td>0.830614</td>\n",
       "      <td>Active recovery</td>\n",
       "    </tr>\n",
       "    <tr>\n",
       "      <th>0</th>\n",
       "      <td>2017_03_10_17_46_57.utf8.json</td>\n",
       "      <td>17235</td>\n",
       "      <td>20</td>\n",
       "      <td>80.738372</td>\n",
       "      <td>174.304817</td>\n",
       "      <td>138</td>\n",
       "      <td>0.146455</td>\n",
       "      <td>9.96009</td>\n",
       "      <td>26.927528</td>\n",
       "      <td>269.7650</td>\n",
       "      <td>224.057309</td>\n",
       "      <td>236.577337</td>\n",
       "      <td>158.6</td>\n",
       "      <td>1.055879</td>\n",
       "      <td>0.000000</td>\n",
       "      <td>1.051455</td>\n",
       "      <td>FTP</td>\n",
       "    </tr>\n",
       "    <tr>\n",
       "      <th>0</th>\n",
       "      <td>2017_03_11_17_34_54.utf8.json</td>\n",
       "      <td>17236</td>\n",
       "      <td>87</td>\n",
       "      <td>68.018194</td>\n",
       "      <td>135.779672</td>\n",
       "      <td>102</td>\n",
       "      <td>-0.012015</td>\n",
       "      <td>34.94850</td>\n",
       "      <td>23.891792</td>\n",
       "      <td>749.9425</td>\n",
       "      <td>142.873404</td>\n",
       "      <td>181.344455</td>\n",
       "      <td>501.2</td>\n",
       "      <td>1.269267</td>\n",
       "      <td>126.926670</td>\n",
       "      <td>0.805975</td>\n",
       "      <td>Endurance</td>\n",
       "    </tr>\n",
       "    <tr>\n",
       "      <th>0</th>\n",
       "      <td>2017_03_17_18_00_29.utf8.json</td>\n",
       "      <td>17242</td>\n",
       "      <td>16</td>\n",
       "      <td>81.361111</td>\n",
       "      <td>175.579293</td>\n",
       "      <td>157</td>\n",
       "      <td>0.178841</td>\n",
       "      <td>25.67930</td>\n",
       "      <td>38.147976</td>\n",
       "      <td>232.4320</td>\n",
       "      <td>234.779798</td>\n",
       "      <td>257.933357</td>\n",
       "      <td>39.6</td>\n",
       "      <td>1.098618</td>\n",
       "      <td>0.000000</td>\n",
       "      <td>1.146370</td>\n",
       "      <td>FTP</td>\n",
       "    </tr>\n",
       "  </tbody>\n",
       "</table>\n",
       "</div>"
      ],
      "text/plain": [
       "                        filename epoch_day time        cad          hr hr_min  \\\n",
       "0  2017_02_18_11_13_04.utf8.json     17215  118  62.952481  151.204584    104   \n",
       "0  2017_02_22_17_33_49.utf8.json     17219   67        NaN  131.801924     90   \n",
       "0  2017_03_07_17_47_18.utf8.json     17232   10  62.576433  137.426752    114   \n",
       "0  2017_03_07_17_47_18.utf8.json     17232   23  86.882497  171.672943    147   \n",
       "0  2017_03_07_17_47_18.utf8.json     17232   46  71.348523  155.900576    126   \n",
       "0  2017_03_10_17_46_57.utf8.json     17235    4  61.197761  138.582090    118   \n",
       "0  2017_03_10_17_46_57.utf8.json     17235   26  61.663425  145.644605    115   \n",
       "0  2017_03_10_17_46_57.utf8.json     17235   20  80.738372  174.304817    138   \n",
       "0  2017_03_11_17_34_54.utf8.json     17236   87  68.018194  135.779672    102   \n",
       "0  2017_03_17_18_00_29.utf8.json     17242   16  81.361111  175.579293    157   \n",
       "\n",
       "   hr_drift        km        kph  kilojoules       watts          np    alt  \\\n",
       "0 -0.233592  51.11070  25.871660   1064.2005  149.173045  227.744560  443.6   \n",
       "0       NaN  24.28590  21.456039         NaN         NaN         NaN  390.6   \n",
       "0  0.339606   4.69625  26.520306     93.3940  148.716561  216.195434   67.2   \n",
       "0  0.129740  18.93060  35.632825    310.9230  216.822176  234.398718     86   \n",
       "0 -0.014478  37.26620  23.778161    400.1225  144.136347  235.856360  188.2   \n",
       "0  0.002620   0.91421  12.047118     42.8330  159.824627  221.239447   39.6   \n",
       "0  0.082763  23.27900  30.088589    174.7355  109.620765  186.888240   72.6   \n",
       "0  0.146455   9.96009  26.927528    269.7650  224.057309  236.577337  158.6   \n",
       "0 -0.012015  34.94850  23.891792    749.9425  142.873404  181.344455  501.2   \n",
       "0  0.178841  25.67930  38.147976    232.4320  234.779798  257.933357   39.6   \n",
       "\n",
       "         vi         tss        if    training_type  \n",
       "0  1.526714  152.671389  1.012198        Endurance  \n",
       "0       NaN         NaN       NaN               NA  \n",
       "0  1.453741    0.000000  0.960869        Endurance  \n",
       "0  1.081064    0.000000  1.041772              FTP  \n",
       "0  1.636342    0.000000  1.048250        Endurance  \n",
       "0  1.384264    0.000000  0.983286        Endurance  \n",
       "0  1.704862    0.000000  0.830614  Active recovery  \n",
       "0  1.055879    0.000000  1.051455              FTP  \n",
       "0  1.269267  126.926670  0.805975        Endurance  \n",
       "0  1.098618    0.000000  1.146370              FTP  "
      ]
     },
     "execution_count": 3,
     "metadata": {},
     "output_type": "execute_result"
    }
   ],
   "source": [
    "t_data = read_intervals(_PATH_, _FTP_)\n",
    "\n",
    "t_data[:10].drop(['watts_std', 'watts_25', 'watts_50', 'watts_75', 'watts_max', 'temp', 'hr_max'], axis=1)"
   ]
  },
  {
   "cell_type": "markdown",
   "metadata": {},
   "source": [
    "# Linear regression HR with Power data (using Keras)"
   ]
  },
  {
   "cell_type": "code",
   "execution_count": 4,
   "metadata": {
    "tags": [
     "ml"
    ]
   },
   "outputs": [
    {
     "name": "stderr",
     "output_type": "stream",
     "text": [
      "Using TensorFlow backend.\n"
     ]
    }
   ],
   "source": [
    "from sklearn.preprocessing import StandardScaler\n",
    "\n",
    "import keras\n",
    "from keras.layers import Input, Dense\n",
    "from keras.models import Model\n",
    "import matplotlib.pyplot as plt\n",
    "\n",
    "def linear_regression(cur, x_values, y_values):\n",
    "\n",
    "    x_ = cur[x_values]\n",
    "    y_ = cur[y_values]\n",
    "\n",
    "#     x = x_\n",
    "    x = sc.fit_transform(x_.values.reshape(-1, 1))\n",
    "    y = y_\n",
    "\n",
    "    # Model\n",
    "    inputs = Input(shape=(1,))\n",
    "    preds = Dense(1, activation='linear')(inputs)\n",
    "\n",
    "    model = Model(inputs=inputs,outputs=preds)\n",
    "    sgd = keras.optimizers.SGD()\n",
    "\n",
    "    model.compile(optimizer=sgd ,loss='mse',metrics=['mse'])\n",
    "    model.fit(x,y, batch_size=1, epochs=30, shuffle=False, verbose=0)\n",
    "\n",
    "    # Plot\n",
    "    plt.figure(figsize=(15, 6), dpi=80)\n",
    "    plt.scatter(x_,y, color='blue', linewidths=10)\n",
    "\n",
    "    plt.xlabel(x_values)\n",
    "    plt.ylabel(y_values)\n",
    "\n",
    "    plt.plot(x_, model.predict(x), color='red', linewidth=1)\n",
    "\n",
    "    plt.show()\n",
    "\n",
    "    slope = model.get_weights()[0].item(0)\n",
    "    interceptor = model.get_weights()[1].item(0)\n",
    "\n",
    "    print(\"Slope:       %f\" % slope)\n",
    "    print(\"Interceptor: %f\" % interceptor)\n",
    "    \n",
    "    return model\n"
   ]
  },
  {
   "cell_type": "code",
   "execution_count": 10,
   "metadata": {},
   "outputs": [
    {
     "name": "stderr",
     "output_type": "stream",
     "text": [
      "/usr/lib/python2.7/site-packages/ipykernel/__main__.py:4: SettingWithCopyWarning: \n",
      "A value is trying to be set on a copy of a slice from a DataFrame\n",
      "\n",
      "See the caveats in the documentation: http://pandas.pydata.org/pandas-docs/stable/indexing.html#indexing-view-versus-copy\n"
     ]
    },
    {
     "data": {
      "image/png": "[encoded data removed]",
      "text/plain": [
       "<matplotlib.figure.Figure at 0x7fed7864b950>"
      ]
     },
     "metadata": {},
     "output_type": "display_data"
    },
    {
     "name": "stdout",
     "output_type": "stream",
     "text": [
      "Slope:       0.073349\n",
      "Interceptor: 0.919888\n"
     ]
    }
   ],
   "source": [
    "# Normalize\n",
    "sc = StandardScaler()\n",
    "cur = t_data[t_data['training_type'] != 'Active recovery']\n",
    "cur.dropna(inplace=True)\n",
    "\n",
    "model = linear_regression(\n",
    "    cur.drop(['filename', 'epoch_day', 'kph', 'temp', 'alt', 'km'], axis=1), \n",
    "    'watts', \n",
    "    'if')"
   ]
  },
  {
   "cell_type": "code",
   "execution_count": 11,
   "metadata": {},
   "outputs": [
    {
     "name": "stdout",
     "output_type": "stream",
     "text": [
      "Predicting when X = 230.000000 -> Y = 1.043408 if\n"
     ]
    }
   ],
   "source": [
    "prediction = 230.0\n",
    "\n",
    "norm_hr = sc.transform(np.array([prediction]).reshape(-1, 1))\n",
    "a = model.predict(norm_hr).item(0)\n",
    "\n",
    "print(\"Predicting when X = %f -> Y = %f if\" % (prediction, a))"
   ]
  },
  {
   "cell_type": "code",
   "execution_count": 18,
   "metadata": {},
   "outputs": [
    {
     "data": {
      "image/png": "[encoded data removed]",
      "text/plain": [
       "<matplotlib.figure.Figure at 0x7fed3eed6390>"
      ]
     },
     "metadata": {},
     "output_type": "display_data"
    },
    {
     "name": "stdout",
     "output_type": "stream",
     "text": [
      "Slope:       0.032308\n",
      "Interceptor: 0.057182\n"
     ]
    }
   ],
   "source": [
    "sc = StandardScaler()\n",
    "cur = t_data[t_data['training_type'] != 'Active Recovery']\n",
    "cur = cur.dropna()\n",
    "cur = cur[cur['time'] > 30]\n",
    "cur = cur[(cur.hr_drift > cur.hr_drift.quantile(0.05)) & (cur.hr_drift < cur.hr_drift.quantile(0.95))]\n",
    "\n",
    "model = linear_regression(\n",
    "    cur.drop(['filename', 'epoch_day', 'kph', 'temp', 'alt', 'km'], axis=1), \n",
    "    'time', \n",
    "    'hr_drift')"
   ]
  },
  {
   "cell_type": "code",
   "execution_count": 19,
   "metadata": {},
   "outputs": [
    {
     "name": "stdout",
     "output_type": "stream",
     "text": [
      "Predicting when X = 80.000000 -> Y = 0.060738\n"
     ]
    }
   ],
   "source": [
    "prediction = 80.0\n",
    "\n",
    "norm_hr = sc.transform(np.array([prediction]).reshape(-1, 1))\n",
    "a = model.predict(norm_hr).item(0)\n",
    "\n",
    "print(\"Predicting when X = %f -> Y = %f\" % (prediction, a))"
   ]
  }
 ],
 "metadata": {
  "kernelspec": {
   "display_name": "Python 2",
   "language": "python2",
   "name": "python2"
  },
  "language_info": {
   "codemirror_mode": {
    "name": "ipython",
    "version": 2
   },
   "file_extension": ".py",
   "mimetype": "text/x-python",
   "name": "python",
   "nbconvert_exporter": "python",
   "pygments_lexer": "ipython2",
   "version": "2.7.13"
  }
 },
 "nbformat": 4,
 "nbformat_minor": 2
}
